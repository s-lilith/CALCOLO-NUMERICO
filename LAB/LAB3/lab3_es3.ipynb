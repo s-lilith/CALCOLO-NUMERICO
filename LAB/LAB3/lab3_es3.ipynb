{
 "cells": [
  {
   "cell_type": "markdown",
   "metadata": {},
   "source": [
    "# Esercizio 3\n",
    "\n",
    "Per ognuna delle seguenti funzioni:\n",
    "\n",
    "f (x) = x exp(x) x ∈ [−1, 1]\n",
    "\n",
    "f (x) = 1/1 + 25 ∗ x x ∈ [−1, 1]\n",
    "\n",
    "f (x) = sin(5x) + 3x x ∈ [1, 5]\n",
    "\n",
    "Assegnati m punti equispaziati, con m fissato,\n",
    "\n",
    "i. Per ciascun valore di n ∈ {1, 2, 3, 5, 7}, creare una figura con il grafico della funzione esatta f (x) insieme a quello del polinomio di approssimazione\n",
    "p(x). Evidenziare gli m punti noti.\n",
    "\n",
    "ii. Per ciascun valore di n ∈ {1, 2, 3, 5, 7}, riportare il valore dell’errore commesso nel punto x = 0.\n",
    "\n",
    "iii. Calcolare la norma 2 dell’errore di approssimazione, commesso sugli m\n",
    "nodi, per ciascun valore di n ∈ {1, 5, 7}"
   ]
  },
  {
   "cell_type": "code",
   "execution_count": null,
   "metadata": {},
   "outputs": [],
   "source": [
    "import numpy as np\n",
    "import matplotlib.pyplot as plt\n",
    "import scipy.linalg\n",
    "\n",
    "\n",
    "\n",
    "N = 10\n",
    "\n",
    "f = lambda x: ...\n",
    "x = np.linspace(1, 5, N)\n",
    "y = f(x)\n",
    "\n",
    "\n",
    "\n",
    "\n"
   ]
  }
 ],
 "metadata": {
  "kernelspec": {
   "display_name": "Python 3.10.8 64-bit (microsoft store)",
   "language": "python",
   "name": "python3"
  },
  "language_info": {
   "name": "python",
   "version": "3.10.8"
  },
  "orig_nbformat": 4,
  "vscode": {
   "interpreter": {
    "hash": "1de178d4a366d18416e822dacaacbdacfc1a67736904be65e25b750f79cc2f30"
   }
  }
 },
 "nbformat": 4,
 "nbformat_minor": 2
}
