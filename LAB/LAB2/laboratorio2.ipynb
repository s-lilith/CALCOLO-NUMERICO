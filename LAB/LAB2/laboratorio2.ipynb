{
 "cells": [
  {
   "cell_type": "markdown",
   "metadata": {},
   "source": [
    "1. METODI DIRETTI"
   ]
  },
  {
   "cell_type": "markdown",
   "metadata": {},
   "source": [
    "1.1 Risoluzione di sistemi lineari con matrice generica. Scrivere uno script Python che:\n",
    "\n",
    "(a) crea un problema test di dimensione variabile n la cui soluzione esatta sia il vettore x di tutti\n",
    "elementi unitari e b il termine noto ottenuto moltiplicando la matrice A per la soluzione x.\n",
    "\n",
    "(b) calcola il numero di condizione (o una stima di esso)\n",
    "\n",
    "(c) risolve il sistema lineare Ax = b con la fattorizzazione LU con pivoting.\n",
    "\n",
    "Problemi test\n",
    "\n",
    "• Una matrice di numeri casuali A generata con la funzione randn di Matlab, (n variabile fra 10 e\n",
    "1000)"
   ]
  },
  {
   "cell_type": "code",
   "execution_count": 100,
   "metadata": {},
   "outputs": [],
   "source": [
    "import sys\n",
    "import numpy as np\n",
    "import scipy\n",
    "import scipy.linalg\n",
    "from scipy.linalg import lu_factor, lu_solve\n",
    "import matplotlib.pyplot as plt"
   ]
  },
  {
   "cell_type": "code",
   "execution_count": null,
   "metadata": {},
   "outputs": [],
   "source": [
    "n= 11\n",
    "A= np.random.randn(n, n)\n",
    "x= np.ones ((n, 1))\n",
    "b= np.matmul(A,x)\n",
    "condA= np.linalg.cond(A, 1)\n",
    "\n",
    "print ('A: ', A, '\\n')\n",
    "print ('x: ', x, '\\n')\n",
    "print ('b: ', b, '\\n')\n",
    "print ('K(A) = ', condA, '\\n')\n",
    "\n",
    "lu,piv = lu_factor(A)\n",
    "print('lu',lu,'\\n')\n",
    "print('piv',piv,'\\n')\n",
    "\n",
    "my_x= lu_solve((lu, piv), b)\n",
    "\n",
    "print('\\nSoluzione calcolata con la fattorizzazione LU con pivoting: ')\n",
    "for i in range(n):\n",
    "    print('%0.2f' %my_x[i])\n",
    "\n",
    "Err=np.linalg.norm(my_x-x, 2)/np.linalg.norm(x)\n",
    "print('Errore relativo: ', Err)"
   ]
  },
  {
   "cell_type": "code",
   "execution_count": 126,
   "metadata": {},
   "outputs": [],
   "source": [
    "K_A= np.zeros((n,1))\n",
    "ErrLU= np.zeros((n, 1))\n",
    "for n in np.arange(1, 8):\n",
    "    A= scipy.linalg.hilbert(n)\n",
    "    A= np.matmul(A, np.transpose(A))\n",
    "    x= np.ones((A.shape[1],1))   \n",
    "    b= np.matmul(A, x)\n",
    "    K_A= np.linalg.cond(A)\n",
    "    lu, piv= lu_factor(A)\n",
    "    my_x= lu_solve((lu, piv), b)\n",
    "    Err[2]= np.linalg.norm(my_x-x, 2)/np.linalg.norm(x)"
   ]
  },
  {
   "cell_type": "markdown",
   "metadata": {},
   "source": [
    "1.2 Risoluzione di sistemi lineari con matrice simmetrica e definita positiva.\n",
    "Scrivere uno script Python che:\n",
    "\n",
    "(a) crea un problema test di dimensione variabile n la cui soluzione esatta sia il vettore x di tutti elementi unitari e b il termine noto ottenuto moltiplicando la matrice A per la soluzione x.\n",
    "\n",
    "(b) calcola il numero di condizione (o una stima di esso)\n",
    "\n",
    "(c) risolve il sistema lineare Ax = b con la fattorizzazione di Cholesky..\n",
    "\n"
   ]
  },
  {
   "cell_type": "markdown",
   "metadata": {},
   "source": [
    "1.2.1\n",
    "\n",
    "PROBLEMA TEST\n",
    "\n",
    "• matrice di Hilbert di dimensione n (con n variabile fra 2 e 15)\n",
    "\n",
    "Per ogni problema test:\n",
    "\n",
    "• Disegna il grafico del numero di condizione in funzione della dimensione del sistema\n",
    "\n",
    "• Disegna il grafico dell’errore in norma 2 in funzione della dimensione del sistema"
   ]
  },
  {
   "cell_type": "code",
   "execution_count": 117,
   "metadata": {},
   "outputs": [
    {
     "name": "stdout",
     "output_type": "stream",
     "text": [
      "A:\n",
      " [[1.         0.5        0.33333333 0.25       0.2        0.16666667\n",
      "  0.14285714 0.125     ]\n",
      " [0.5        0.33333333 0.25       0.2        0.16666667 0.14285714\n",
      "  0.125      0.11111111]\n",
      " [0.33333333 0.25       0.2        0.16666667 0.14285714 0.125\n",
      "  0.11111111 0.1       ]\n",
      " [0.25       0.2        0.16666667 0.14285714 0.125      0.11111111\n",
      "  0.1        0.09090909]\n",
      " [0.2        0.16666667 0.14285714 0.125      0.11111111 0.1\n",
      "  0.09090909 0.08333333]\n",
      " [0.16666667 0.14285714 0.125      0.11111111 0.1        0.09090909\n",
      "  0.08333333 0.07692308]\n",
      " [0.14285714 0.125      0.11111111 0.1        0.09090909 0.08333333\n",
      "  0.07692308 0.07142857]\n",
      " [0.125      0.11111111 0.1        0.09090909 0.08333333 0.07692308\n",
      "  0.07142857 0.06666667]] \n",
      "\n",
      "x:\n",
      " [[1.]\n",
      " [1.]\n",
      " [1.]\n",
      " [1.]\n",
      " [1.]\n",
      " [1.]\n",
      " [1.]\n",
      " [1.]] \n",
      "\n",
      "b:\n",
      " [[2.71785714]\n",
      " [1.82896825]\n",
      " [1.42896825]\n",
      " [1.18654401]\n",
      " [1.01987734]\n",
      " [0.89680042]\n",
      " [0.80156233]\n",
      " [0.72537185]] \n",
      "\n",
      "K(A) =  15257575568.347378 \n",
      "\n"
     ]
    }
   ],
   "source": [
    "n= 8\n",
    "A= scipy.linalg.hilbert(n)\n",
    "x= np.ones((n, 1))\n",
    "b= np.matmul(A, x)\n",
    "condA= np.linalg.cond(A, 2)\n",
    "L= np.linalg.cholesky(A)\n",
    "\n",
    "print ('A:\\n', A, '\\n')\n",
    "print ('x:\\n', x, '\\n')\n",
    "print ('b:\\n', b, '\\n')\n",
    "# print ('L:\\n', L, '\\n')\n",
    "# print('LL^t: \\n',L@L.T,'\\n')\n",
    "print ('K(A) = ', condA, '\\n')\n"
   ]
  },
  {
   "cell_type": "code",
   "execution_count": 130,
   "metadata": {},
   "outputs": [],
   "source": [
    "K_A= np.zeros((n,1))\n",
    "ErrCho= np.zeros((n,1))\n",
    "for n in np.arange(1, 8):\n",
    "   A= scipy.linalg.hilbert(n)\n",
    "   A=np.matmul(A,np.transpose(A))\n",
    "#    x= np.ones((n, 1))\n",
    "   x=np.ones((A.shape[1],1))\n",
    "   b= np.matmul(A, x)\n",
    "   K_A[2]= np.linalg.cond(A)\n",
    "   L= np.linalg.cholesky(A)\n",
    "   # Err[n-3]= np.linalg.norm(A-np.matmul(L, np.transpose(L)), 2)/np.linalg.norm(np.matmul(L, np.transpose(L)))\n",
    "   ErrCho[2]= np.linalg.norm(L-x, 2)/np.linalg.norm(x)"
   ]
  },
  {
   "cell_type": "code",
   "execution_count": 122,
   "metadata": {},
   "outputs": [
    {
     "data": {
      "image/png": "[encoded data removed]",
      "text/plain": [
       "<Figure size 432x288 with 1 Axes>"
      ]
     },
     "metadata": {
      "needs_background": "light"
     },
     "output_type": "display_data"
    }
   ],
   "source": [
    "x= np.arange(1, 8)\n",
    "fig, ax= plt.subplots()\n",
    "\n",
    "ax.plot(x, K_A, color='red', label='Condizionamento A', marker='o')\n",
    "ax.plot(x, Err, color='blue', label='Errore relativo', marker='.')\n",
    "plt.legend()\n",
    "plt.title('Condizionamento di A e Errore relativo')\n",
    "plt.xlabel('dimensione matrice: n')\n",
    "plt.ylabel('K_A & Errore')\n",
    "plt.show()"
   ]
  },
  {
   "cell_type": "markdown",
   "metadata": {},
   "source": [
    "1.2.2\n",
    "\n",
    "PROBLEMA TEST\n",
    "\n",
    "• matrice tridiagonale simmetrica e definita positiva avente sulla diagonale elementi uguali a 9 e quelli sopra e sottodiagonali uguali a -4.\n",
    "\n",
    "Per ogni problema test:\n",
    "\n",
    "• Disegna il grafico del numero di condizione in funzione della dimensione del sistema\n",
    "\n",
    "• Disegna il grafico dell’errore in norma 2 in funzione della dimensione del sistema"
   ]
  },
  {
   "cell_type": "code",
   "execution_count": 105,
   "metadata": {},
   "outputs": [
    {
     "name": "stdout",
     "output_type": "stream",
     "text": [
      "A:\n",
      " [[ 9. -4.  0.  0.  0.  0.]\n",
      " [-4.  9. -4.  0.  0.  0.]\n",
      " [ 0. -4.  9. -4.  0.  0.]\n",
      " [ 0.  0. -4.  9. -4.  0.]\n",
      " [ 0.  0.  0. -4.  9. -4.]\n",
      " [ 0.  0.  0.  0. -4.  9.]] \n",
      "\n",
      "x:\n",
      " [[1.]\n",
      " [1.]\n",
      " [1.]\n",
      " [1.]\n",
      " [1.]\n",
      " [1.]] \n",
      "\n",
      "b:\n",
      " [[5.]\n",
      " [1.]\n",
      " [1.]\n",
      " [1.]\n",
      " [1.]\n",
      " [5.]] \n",
      "\n",
      "L:\n",
      " [[ 3.          0.          0.          0.          0.          0.        ]\n",
      " [-1.33333333  2.68741925  0.          0.          0.          0.        ]\n",
      " [ 0.         -1.48841682  2.60472943  0.          0.          0.        ]\n",
      " [ 0.          0.         -1.53566814  2.57715412  0.          0.        ]\n",
      " [ 0.          0.          0.         -1.55209965  2.5672917   0.        ]\n",
      " [ 0.          0.          0.          0.         -1.55806214  2.56367751]] \n",
      "\n",
      "LL^t: \n",
      " [[ 9. -4.  0.  0.  0.  0.]\n",
      " [-4.  9. -4.  0.  0.  0.]\n",
      " [ 0. -4.  9. -4.  0.  0.]\n",
      " [ 0.  0. -4.  9. -4.  0.]\n",
      " [ 0.  0.  0. -4.  9. -4.]\n",
      " [ 0.  0.  0.  0. -4.  9.]] \n",
      "\n",
      "K(A) =  9.043247020775532 \n",
      "\n"
     ]
    }
   ],
   "source": [
    "n=6\n",
    "A= np.eye(n)*9 +np.eye(n, k=1)*-4 + np.eye(n, k=-1)*-4\n",
    "x= np.ones((n, 1))\n",
    "b= np.matmul(A, x)\n",
    "condA= np.linalg.cond(A, 2)\n",
    "L= np.linalg.cholesky(A)\n",
    "\n",
    "print ('A:\\n', A, '\\n')\n",
    "print ('x:\\n', x, '\\n')\n",
    "print ('b:\\n', b, '\\n')\n",
    "print ('L:\\n', L, '\\n')\n",
    "print('LL^t: \\n',L@L.T,'\\n')\n",
    "print ('K(A) = ', condA, '\\n')"
   ]
  },
  {
   "cell_type": "code",
   "execution_count": 106,
   "metadata": {},
   "outputs": [],
   "source": [
    "# n=20\n",
    "K_A= np.zeros((20,1))\n",
    "Err= np.zeros((20,1))\n",
    "for n in np.arange(1, 30):\n",
    "   A= np.eye(n)*9 +np.eye(n, k=1)*-4 + np.eye(n, k=-1)*-4\n",
    "   A=np.matmul(A, np.transpose(A))\n",
    "   x=np.ones((A.shape[1],1))\n",
    "   b= np.matmul(A, x)\n",
    "   K_A[n-10]= np.linalg.cond(A)\n",
    "   L= np.linalg.cholesky(A)\n",
    "   # Err[n-10]= np.linalg.norm(A-np.matmul(L, np.transpose(L)), 2)\n",
    "   Err[n-10]= np.linalg.norm(A-np.matmul(L, np.transpose(L)), 2)/np.linalg.norm(np.matmul(L, np.transpose(L)))\n"
   ]
  },
  {
   "cell_type": "code",
   "execution_count": 107,
   "metadata": {},
   "outputs": [
    {
     "data": {
      "image/png": "[encoded data removed]",
      "text/plain": [
       "<Figure size 432x288 with 1 Axes>"
      ]
     },
     "metadata": {
      "needs_background": "light"
     },
     "output_type": "display_data"
    }
   ],
   "source": [
    "x= np.arange(0, 20)\n",
    "\n",
    "# grafico del numero di condizione in funzione della dimensione del sistema\n",
    "\n",
    "plt.plot(x, K_A, color='red', label='CONDIZIONAMENTO DI A')\n",
    "\n",
    "# grafico dell’errore in norma 2 in funzione della dimensione del sistema\n",
    "plt.plot(x, Err, color='blue', linestyle='--', label='Errore relativo')\n",
    "plt.legend()\n",
    "plt.title('Condizionamento di A e Errore relativo')\n",
    "plt.xlabel('dimensione matrice: n')\n",
    "plt.ylabel('K_A & Errore')\n",
    "plt.show()"
   ]
  },
  {
   "cell_type": "markdown",
   "metadata": {},
   "source": [
    "2. METODI ITERATIVI"
   ]
  },
  {
   "cell_type": "markdown",
   "metadata": {},
   "source": [
    "Scrivi le funzioni Jacobi(A; b; x0; maxit; tol; xTrue) e GaussSeidel(A; b; x0; maxit; tol; xTrue) per implementare i metodi di Jacobi e di Gauss Seidel per la risoluzione di sistemi lineari con matrice a\n",
    "diagonale dominante. In particolare:\n",
    "\n",
    "• x0 sia l’iterato iniziale;\n",
    "\n",
    "• la condizione d’arresto sia dettata dal numero massimo di iterazioni consentite maxit e dalla\n",
    "tolleranza tol sulla differenza relativa fra due iterati successivi;\n",
    "\n",
    "• si preveda in input la soluzione esatta xTrue per calcolare l’errore relativo ad ogni iterazione.\n",
    "\n",
    "Entrambe le funzioni restituiscano in output:\n",
    "\n",
    "• la soluzione x;\n",
    "\n",
    "• il numero k di iterazioni effettuate;\n",
    "\n",
    "• il vettore relErr di tutti gli errori relativi."
   ]
  },
  {
   "cell_type": "markdown",
   "metadata": {},
   "source": [
    "2.1\n",
    "\n",
    "PROBLEMA TEST\n",
    "\n",
    "• considerare la precedente matrice tridiagonale per N>100.\n",
    "\n",
    "• verificare, calcolando il raggio spettrale della matrice, la convergenza dei metosi.\n",
    "\n",
    "• Eseguire i metodi con tolleranza 1.e-8.\n",
    "\n",
    "• Riportare in un grafico l’ errore relativo (in norma 2) di entrambi i metodi al variare del numero\n",
    "di iterazioni per N fiossato (scegliere almeno due valori di N).\n",
    "\n",
    "• Riportare in un grafico l’errore relativo finale dei metodi al variare della dimensione N del sistema.\n",
    "\n",
    "• riportare in un grafico il numero di iterazioni di entrambi i metodi al variare di N\n",
    "\n",
    "• Riportare in un grafico il tempo impiegato dai metodi di Jacobi, Gauss Sidel, LU, Cholesky al\n",
    "variare di N."
   ]
  },
  {
   "cell_type": "code",
   "execution_count": 108,
   "metadata": {},
   "outputs": [],
   "source": [
    "def Jacobi(A,b,x0,maxit,tol, xTrue):\n",
    "  n=np.size(x0)     \n",
    "  ite=0\n",
    "  x = np.copy(x0)\n",
    "  norma_it=1+tol\n",
    "  relErr=np.zeros((maxit, 1))\n",
    "  errIter=np.zeros((maxit, 1))\n",
    "  relErr[0]=np.linalg.norm(xTrue-x0)/np.linalg.norm(xTrue)\n",
    "  while (ite<maxit and norma_it>tol):\n",
    "    x_old=np.copy(x)\n",
    "    for i in range(0,n):\n",
    "      #x[i]=(b[i]-sum([A[i,j]*x_old[j] for j in range(0,i)])-sum([A[i, j]*x_old[j] for j in range(i+1,n)]))/A[i,i]\n",
    "      x[i]=(b[i]-np.dot(A[i,0:i],x_old[0:i])-np.dot(A[i,i+1:n],x_old[i+1:n]))/A[i,i]\n",
    "    ite=ite+1\n",
    "    norma_it = np.linalg.norm(x_old-x)/np.linalg.norm(x_old)\n",
    "    relErr[ite] = np.linalg.norm(xTrue-x)/np.linalg.norm(xTrue)\n",
    "    errIter[ite-1] = norma_it\n",
    "  relErr=relErr[:ite]\n",
    "  errIter=errIter[:ite]  \n",
    "  return [x, ite, relErr, errIter]\n",
    "\n",
    "\n",
    "def GaussSeidel(A,b,x0,maxit,tol, xTrue):\n",
    "  n=np.size(x0)     \n",
    "  ite=0\n",
    "  x = np.copy(x0)\n",
    "  relErr=np.zeros((maxit, 1))\n",
    "  errIter=np.zeros((maxit, 1))\n",
    "  errIter[0]=tol+1\n",
    "  relErr[0]=np.linalg.norm(xTrue-x0)/np.linalg.norm(xTrue)\n",
    "  while ( ite < maxit and errIter[ite] > tol ):   \n",
    "    x_old=np.copy(x)\n",
    "    for i in range(0,n):\n",
    "      x[i]=(b[i]-np.dot(A[i,0:i],x[0:i])-np.dot(A[i,i+1:n],x_old[i+1:n]))/A[i,i] \n",
    "    ite=ite+1\n",
    "    relErr[ite] = np.linalg.norm(xTrue-x)/np.linalg.norm(xTrue)\n",
    "    errIter[ite] = np.linalg.norm(x-x_old)/np.linalg.norm(x)  #fine ciclo\n",
    "  relErr=relErr[:ite]\n",
    "  errIter=errIter[:ite] \n",
    "  return [x, ite, relErr, errIter]"
   ]
  },
  {
   "cell_type": "code",
   "execution_count": 109,
   "metadata": {},
   "outputs": [
    {
     "name": "stderr",
     "output_type": "stream",
     "text": [
      "C:\\Users\\sharo\\AppData\\Local\\Temp\\ipykernel_9532\\2172552994.py:15: RuntimeWarning: divide by zero encountered in double_scalars\n",
      "  norma_it = np.linalg.norm(x_old-x)/np.linalg.norm(x_old)\n"
     ]
    },
    {
     "name": "stdout",
     "output_type": "stream",
     "text": [
      "\n",
      "Soluzione calcolata da Jacobi:\n",
      "1.00\n",
      "1.00\n",
      "1.00\n",
      "1.00\n",
      "1.00\n",
      "1.00\n",
      "1.00\n",
      "1.00\n",
      "1.00\n",
      "1.00\n",
      "1.00\n",
      "1.00\n",
      "1.00\n",
      "1.00\n",
      "1.00\n",
      "1.00\n",
      "1.00\n",
      "1.00\n",
      "1.00\n",
      "1.00\n",
      "1.00\n",
      "1.00\n",
      "1.00\n",
      "1.00\n",
      "1.00\n",
      "1.00\n",
      "1.00\n",
      "1.00\n",
      "1.00\n",
      "1.00\n",
      "1.00\n",
      "1.00\n",
      "1.00\n",
      "1.00\n",
      "1.00\n",
      "1.00\n",
      "1.00\n",
      "1.00\n",
      "1.00\n",
      "1.00\n",
      "1.00\n",
      "1.00\n",
      "1.00\n",
      "1.00\n",
      "1.00\n",
      "1.00\n",
      "1.00\n",
      "1.00\n",
      "1.00\n",
      "1.00\n",
      "1.00\n",
      "1.00\n",
      "1.00\n",
      "1.00\n",
      "1.00\n",
      "1.00\n",
      "1.00\n",
      "1.00\n",
      "1.00\n",
      "1.00\n",
      "1.00\n",
      "1.00\n",
      "1.00\n",
      "1.00\n",
      "1.00\n",
      "1.00\n",
      "1.00\n",
      "1.00\n",
      "1.00\n",
      "1.00\n",
      "1.00\n",
      "1.00\n",
      "1.00\n",
      "1.00\n",
      "1.00\n",
      "1.00\n",
      "1.00\n",
      "1.00\n",
      "1.00\n",
      "1.00\n",
      "1.00\n",
      "1.00\n",
      "1.00\n",
      "1.00\n",
      "1.00\n",
      "1.00\n",
      "1.00\n",
      "1.00\n",
      "1.00\n",
      "1.00\n",
      "1.00\n",
      "1.00\n",
      "1.00\n",
      "1.00\n",
      "1.00\n",
      "1.00\n",
      "1.00\n",
      "1.00\n",
      "1.00\n",
      "1.00\n",
      "1.00\n",
      "\n",
      "Soluzione calcolata da Gauss Seidel:\n",
      "1.00\n",
      "1.00\n",
      "1.00\n",
      "1.00\n",
      "1.00\n",
      "1.00\n",
      "1.00\n",
      "1.00\n",
      "1.00\n",
      "1.00\n",
      "1.00\n",
      "1.00\n",
      "1.00\n",
      "1.00\n",
      "1.00\n",
      "1.00\n",
      "1.00\n",
      "1.00\n",
      "1.00\n",
      "1.00\n",
      "1.00\n",
      "1.00\n",
      "1.00\n",
      "1.00\n",
      "1.00\n",
      "1.00\n",
      "1.00\n",
      "1.00\n",
      "1.00\n",
      "1.00\n",
      "1.00\n",
      "1.00\n",
      "1.00\n",
      "1.00\n",
      "1.00\n",
      "1.00\n",
      "1.00\n",
      "1.00\n",
      "1.00\n",
      "1.00\n",
      "1.00\n",
      "1.00\n",
      "1.00\n",
      "1.00\n",
      "1.00\n",
      "1.00\n",
      "1.00\n",
      "1.00\n",
      "1.00\n",
      "1.00\n",
      "1.00\n",
      "1.00\n",
      "1.00\n",
      "1.00\n",
      "1.00\n",
      "1.00\n",
      "1.00\n",
      "1.00\n",
      "1.00\n",
      "1.00\n",
      "1.00\n",
      "1.00\n",
      "1.00\n",
      "1.00\n",
      "1.00\n",
      "1.00\n",
      "1.00\n",
      "1.00\n",
      "1.00\n",
      "1.00\n",
      "1.00\n",
      "1.00\n",
      "1.00\n",
      "1.00\n",
      "1.00\n",
      "1.00\n",
      "1.00\n",
      "1.00\n",
      "1.00\n",
      "1.00\n",
      "1.00\n",
      "1.00\n",
      "1.00\n",
      "1.00\n",
      "1.00\n",
      "1.00\n",
      "1.00\n",
      "1.00\n",
      "1.00\n",
      "1.00\n",
      "1.00\n",
      "1.00\n",
      "1.00\n",
      "1.00\n",
      "1.00\n",
      "1.00\n",
      "1.00\n",
      "1.00\n",
      "1.00\n",
      "1.00\n",
      "1.00\n"
     ]
    }
   ],
   "source": [
    "n=101\n",
    "A= np.eye(n)*9 +np.eye(n, k=1)*-4 + np.eye(n, k=-1)*-4\n",
    "xTrue= np.ones((n, 1))\n",
    "b= np.matmul(A, xTrue)\n",
    "\n",
    "x0=np.zeros((n,1))\n",
    "maxit= 200\n",
    "tol= 1.e-8\n",
    "(xJacobi, kJacobi, relErrJacobi, errIterJacobi) = Jacobi(A, b, x0, maxit, tol, xTrue)\n",
    "(xGS, kGS, relErrGS, errIterGS) = GaussSeidel(A,b,x0,maxit,tol,xTrue) \n",
    "\n",
    "print('\\nSoluzione calcolata da Jacobi:' )\n",
    "for i in range(n):\n",
    "    print('%0.2f' %xJacobi[i])\n",
    "\n",
    "print('\\nSoluzione calcolata da Gauss Seidel:' )\n",
    "for i in range(n):\n",
    "    print('%0.2f' %xGS[i])\n"
   ]
  },
  {
   "cell_type": "code",
   "execution_count": 110,
   "metadata": {},
   "outputs": [
    {
     "data": {
      "image/png": "[encoded data removed]",
      "text/plain": [
       "<Figure size 432x288 with 1 Axes>"
      ]
     },
     "metadata": {
      "needs_background": "light"
     },
     "output_type": "display_data"
    }
   ],
   "source": [
    "fig, ax= plt.subplots()\n",
    "\n",
    "rangeJacobi= range(0, kJacobi)\n",
    "rangeGS= range(0, kGS)\n",
    "\n",
    "ax.plot(rangeJacobi, relErrJacobi, label='Jacobi', color='blue', marker= 'o')\n",
    "ax.plot(rangeGS, relErrGS, label='Gauss Sidel', color='red', marker='.')\n",
    "ax.legend()\n",
    "plt.xlabel('iterazioni')\n",
    "plt.ylabel('Errore relativo')\n",
    "plt.title('Metodi a confronto')\n",
    "plt.show()"
   ]
  },
  {
   "cell_type": "markdown",
   "metadata": {},
   "source": [
    "Riportare in un grafico il tempo impiegato dai metodi di Jacobi, Gauss Sidel, LU, Cholesky al variare di N."
   ]
  },
  {
   "cell_type": "code",
   "execution_count": 135,
   "metadata": {},
   "outputs": [
    {
     "data": {
      "text/plain": [
       "<matplotlib.legend.Legend at 0x217f2bbdc00>"
      ]
     },
     "execution_count": 135,
     "metadata": {},
     "output_type": "execute_result"
    },
    {
     "data": {
      "image/png": "[encoded data removed]",
      "text/plain": [
       "<Figure size 432x288 with 1 Axes>"
      ]
     },
     "metadata": {
      "needs_background": "light"
     },
     "output_type": "display_data"
    }
   ],
   "source": [
    "fig, ax= plt.subplots()\n",
    "\n",
    "rangeJacobi= range(0, kJacobi)\n",
    "rangeGS= range(0, kGS)\n",
    "rangeLU= range(0, 7)\n",
    "rangeCho= range(0, 7)\n",
    "\n",
    "ax.plot(rangeJacobi, relErrJacobi, label='Jacobi', color='blue')\n",
    "ax.plot(rangeGS, relErrGS, label='Gauss Sidel', color='red')\n",
    "ax.plot(rangeLU, ErrLU, label='Fatt. LU con piv.', color='green')\n",
    "ax.plot(rangeCho, ErrCho, label='Choleski', color='black')\n",
    "\n",
    "ax.legend()"
   ]
  }
 ],
 "metadata": {
  "kernelspec": {
   "display_name": "Python 3.10.5 64-bit",
   "language": "python",
   "name": "python3"
  },
  "language_info": {
   "codemirror_mode": {
    "name": "ipython",
    "version": 3
   },
   "file_extension": ".py",
   "mimetype": "text/x-python",
   "name": "python",
   "nbconvert_exporter": "python",
   "pygments_lexer": "ipython3",
   "version": "3.10.5"
  },
  "orig_nbformat": 4,
  "vscode": {
   "interpreter": {
    "hash": "71f6c63340f562ab350e69d82cce97e48d9e9c6f1b0042b0ad851aac87d861d2"
   }
  }
 },
 "nbformat": 4,
 "nbformat_minor": 2
}
