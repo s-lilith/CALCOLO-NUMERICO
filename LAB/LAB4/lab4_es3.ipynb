{
 "cells": [
  {
   "cell_type": "code",
   "execution_count": 1,
   "metadata": {},
   "outputs": [],
   "source": [
    "import numpy as np\n",
    "import matplotlib.pyplot as plt"
   ]
  },
  {
   "cell_type": "code",
   "execution_count": 2,
   "metadata": {},
   "outputs": [],
   "source": [
    "def bisezione(a, b, f, tolx, xTrue):\n",
    "\n",
    "    if f(a)*f(b) >0:\n",
    "        print('Non esiste radice in [a,b]')\n",
    "        return()\n",
    "    \n",
    "    k= 100\n",
    "    vecErr= np.zeros(k)\n",
    "    i=0\n",
    "    while(b-a) > tolx + 1.e-16 * max(a,b):\n",
    "        # if (b-a < tolx+1.e-16*max(a,b)):\n",
    "        #     print('Errore: l\\'intervallo è troppo piccolo ')\n",
    "        #     return ('Errore', i, k, vecErr)\n",
    "        i= i+1\n",
    "        c= a + (b - a) /2\n",
    "        vecErr[i-1] = abs(c - xTrue)\n",
    "        if abs(f(c)) < 1.e-15:\n",
    "            x= c\n",
    "            return(x, i, k, vecErr)\n",
    "        else:\n",
    "            if f(a) * f(c) < 0:\n",
    "                b= c\n",
    "            else:\n",
    "                a= c\n",
    "    x= c\n",
    "    return(x, i, k, vecErr)\n",
    "\n"
   ]
  },
  {
   "cell_type": "code",
   "execution_count": 3,
   "metadata": {},
   "outputs": [],
   "source": [
    "''' Metodo di Newton'''\n",
    "\n",
    "def newton( f, df, tolf, tolx, maxit, xTrue, x0=0):\n",
    "  \n",
    "  err=np.zeros(maxit, dtype=float)\n",
    "  vecErrore=np.zeros( (maxit,1), dtype=float)\n",
    "  \n",
    "  \n",
    "  i=0\n",
    "  err[0]=tolx+1\n",
    "  vecErrore[0] = np.abs(x0-xTrue)\n",
    "  x=x0\n",
    "\n",
    "  while (i<maxit and (err[i]>tolx or abs(f(x))>tolf) ): # scarto assoluto tra iterati\n",
    "    x_new= f(x)\n",
    "    err[i+1]=abs(x_new-x)\n",
    "    vecErrore[i+1]=abs(x_new-xTrue)\n",
    "    i=i+1\n",
    "    x=x_new\n",
    "    \n",
    "  err=err[0:i]      \n",
    "  vecErrore = vecErrore[0:i]\n",
    "  return (x, i, err, vecErrore)  "
   ]
  },
  {
   "cell_type": "code",
   "execution_count": 4,
   "metadata": {},
   "outputs": [],
   "source": [
    "''' Metodo delle approssimazioni successive'''\n",
    "def succ_app(f, g, tolf, tolx, maxit, xTrue, x0=0):\n",
    "  \n",
    "  err=np.zeros(maxit+1, dtype=np.float64)\n",
    "  vecErrore=np.zeros(maxit+1, dtype=np.float64)\n",
    "  \n",
    "  \n",
    "  i= 0\n",
    "  err[0]= tolx + 1\n",
    "  vecErrore[0] = np.abs(x0 - xTrue)\n",
    "  x = x0\n",
    "\n",
    "  while (i < maxit and (err[i] > tolx or abs(f(x)) > tolf) ): \n",
    "    x_new= g(x)\n",
    "    err[i+1]= abs(x_new - x)\n",
    "    i+= 1\n",
    "    x= x_new\n",
    "    \n",
    "  err = err[0 : i] \n",
    "  vecErrore = vecErrore[0 : i]\n",
    "  return (x, i, err, vecErrore) "
   ]
  },
  {
   "cell_type": "code",
   "execution_count": 8,
   "metadata": {},
   "outputs": [
    {
     "name": "stdout",
     "output_type": "stream",
     "text": [
      "1.436646284158627e-06\n"
     ]
    }
   ],
   "source": [
    "'''creazione del problema 1'''\n",
    "f1= lambda x: x**3+4*x*np.cos(x)-2\n",
    "df1= lambda x: (2-x**3)/(4*np.cos(x))\n",
    "x1true= 0.536839\n",
    "f1true= f1(x1true)\n",
    "print(f1true)\n",
    "\n",
    "a1= 0.0\n",
    "b1= 2.0\n",
    "tolx= 10**(-10)\n",
    "tolf = 10**(-6)\n",
    "maxit=100\n",
    "x0= 0"
   ]
  },
  {
   "cell_type": "code",
   "execution_count": 9,
   "metadata": {},
   "outputs": [
    {
     "data": {
      "image/png": "[encoded data removed]",
      "text/plain": [
       "<Figure size 432x288 with 1 Axes>"
      ]
     },
     "metadata": {
      "needs_background": "light"
     },
     "output_type": "display_data"
    }
   ],
   "source": [
    "x_plot= np.linspace(a1,b1, 101)\n",
    "f_plot= f1(x_plot)\n",
    "plt.plot(x_plot, f_plot)\n",
    "plt.plot(x1true, f1(x1true), '*', color='red')\n",
    "plt.legend((\"f(x)\",\"xTrue\"))\n",
    "plt.xlabel(\"x\")\n",
    "plt.ylabel(\"y\")\n",
    "plt.grid()"
   ]
  },
  {
   "cell_type": "code",
   "execution_count": null,
   "metadata": {},
   "outputs": [],
   "source": [
    "''' Calcolo soluzione tramite Bisezione, Newton e Approssimazioni Successive'''\n",
    "(xBise, iter_bise, err, vecErr_bise)= bisezione(a1, b1, f1, 1.e-6, x1true) \n",
    "print('Metodo di bisezione \\n x =', xBise,'\\n iter_bise=',iter_bise  ,'\\n iter_max=', maxit)\n",
    "print('\\n')\n",
    "\n",
    "(xNew, iter_new, err, vecErr_new)= newton(f1, df1, tolf, tolx, maxit, f1true, x0)\n",
    "print('Metodo di Newton \\n x =', xNew,'\\n iter_new=', iter_new, '\\n err_new=', vecErr_new)\n",
    "print('\\n')\n",
    "\n",
    "\n"
   ]
  },
  {
   "cell_type": "code",
   "execution_count": 17,
   "metadata": {},
   "outputs": [
    {
     "name": "stdout",
     "output_type": "stream",
     "text": [
      "Metodo approssimazioni successive \n",
      " x = 0.5368385515655376 \n",
      " iter_new= 10\n"
     ]
    }
   ],
   "source": [
    "(sol_n, iter_n, err_n, vecErr)= succ_app(f1, df1, tolf, tolx, maxit, x1true, x0)\n",
    "print('Metodo approssimazioni successive \\n x =',sol_n,'\\n iter_new=', iter_n)\n"
   ]
  },
  {
   "cell_type": "code",
   "execution_count": 18,
   "metadata": {},
   "outputs": [
    {
     "name": "stdout",
     "output_type": "stream",
     "text": [
      "1.7370704914476676e-05\n"
     ]
    }
   ],
   "source": [
    "'''creazione del problema 2'''\n",
    "f2= lambda x: x-x**(1/3)-2\n",
    "df2= lambda x: x**(1/3) +2\n",
    "x2true= 3.5214\n",
    "f2true= f2(x2true)\n",
    "print(f2true)\n",
    "\n",
    "a2= 3.0\n",
    "b2= 5.0\n",
    "tolx= 10**(-10)\n",
    "tolf = 10**(-6)\n",
    "maxit=100\n",
    "x0= 0"
   ]
  },
  {
   "cell_type": "code",
   "execution_count": 19,
   "metadata": {},
   "outputs": [
    {
     "data": {
      "image/png": "[encoded data removed]",
      "text/plain": [
       "<Figure size 432x288 with 1 Axes>"
      ]
     },
     "metadata": {
      "needs_background": "light"
     },
     "output_type": "display_data"
    }
   ],
   "source": [
    "x_plot= np.linspace(a2,b2, 101)\n",
    "f_plot= f1(x_plot)\n",
    "plt.plot(x_plot, f_plot)\n",
    "plt.plot(x2true, f1(x2true), '*', color='red')\n",
    "plt.legend((\"f(x)\",\"xTrue\"))\n",
    "plt.xlabel(\"x\")\n",
    "plt.ylabel(\"y\")\n",
    "plt.grid()"
   ]
  },
  {
   "cell_type": "code",
   "execution_count": 27,
   "metadata": {},
   "outputs": [
    {
     "name": "stdout",
     "output_type": "stream",
     "text": [
      "Metodo di bisezione \n",
      " x = 3.5213804244995117 \n",
      " iter_bise= 21 \n",
      " iter_max= 100\n",
      "\n",
      "\n"
     ]
    },
    {
     "ename": "IndexError",
     "evalue": "index 0 is out of bounds for axis 0 with size 0",
     "output_type": "error",
     "traceback": [
      "\u001b[1;31m---------------------------------------------------------------------------\u001b[0m",
      "\u001b[1;31mIndexError\u001b[0m                                Traceback (most recent call last)",
      "\u001b[1;32mc:\\Users\\sharo\\Desktop\\UNI\\SECONDO ANNO\\CALCOLO NUMERICO\\2022-23\\LAB\\LAB4\\lab4_es3.ipynb Cella 11\u001b[0m in \u001b[0;36m<cell line: 6>\u001b[1;34m()\u001b[0m\n\u001b[0;32m      <a href='vscode-notebook-cell:/c%3A/Users/sharo/Desktop/UNI/SECONDO%20ANNO/CALCOLO%20NUMERICO/2022-23/LAB/LAB4/lab4_es3.ipynb#X14sZmlsZQ%3D%3D?line=2'>3</a>\u001b[0m \u001b[39mprint\u001b[39m(\u001b[39m'\u001b[39m\u001b[39mMetodo di bisezione \u001b[39m\u001b[39m\\n\u001b[39;00m\u001b[39m x =\u001b[39m\u001b[39m'\u001b[39m, xBise,\u001b[39m'\u001b[39m\u001b[39m\\n\u001b[39;00m\u001b[39m iter_bise=\u001b[39m\u001b[39m'\u001b[39m,iter_bise  ,\u001b[39m'\u001b[39m\u001b[39m\\n\u001b[39;00m\u001b[39m iter_max=\u001b[39m\u001b[39m'\u001b[39m, maxit)\n\u001b[0;32m      <a href='vscode-notebook-cell:/c%3A/Users/sharo/Desktop/UNI/SECONDO%20ANNO/CALCOLO%20NUMERICO/2022-23/LAB/LAB4/lab4_es3.ipynb#X14sZmlsZQ%3D%3D?line=3'>4</a>\u001b[0m \u001b[39mprint\u001b[39m(\u001b[39m'\u001b[39m\u001b[39m\\n\u001b[39;00m\u001b[39m'\u001b[39m)\n\u001b[1;32m----> <a href='vscode-notebook-cell:/c%3A/Users/sharo/Desktop/UNI/SECONDO%20ANNO/CALCOLO%20NUMERICO/2022-23/LAB/LAB4/lab4_es3.ipynb#X14sZmlsZQ%3D%3D?line=5'>6</a>\u001b[0m (xNew, iter_new, err, vecErr_new)\u001b[39m=\u001b[39m newton(f2, df2, tolf, tolx, \u001b[39m0\u001b[39;49m, f2true, x0)\n\u001b[0;32m      <a href='vscode-notebook-cell:/c%3A/Users/sharo/Desktop/UNI/SECONDO%20ANNO/CALCOLO%20NUMERICO/2022-23/LAB/LAB4/lab4_es3.ipynb#X14sZmlsZQ%3D%3D?line=6'>7</a>\u001b[0m \u001b[39mprint\u001b[39m(\u001b[39m'\u001b[39m\u001b[39mMetodo di Newton \u001b[39m\u001b[39m\\n\u001b[39;00m\u001b[39m x =\u001b[39m\u001b[39m'\u001b[39m, xNew,\u001b[39m'\u001b[39m\u001b[39m\\n\u001b[39;00m\u001b[39m iter_new=\u001b[39m\u001b[39m'\u001b[39m, iter_new, \u001b[39m'\u001b[39m\u001b[39m\\n\u001b[39;00m\u001b[39m err_new=\u001b[39m\u001b[39m'\u001b[39m, vecErr_new)\n\u001b[0;32m      <a href='vscode-notebook-cell:/c%3A/Users/sharo/Desktop/UNI/SECONDO%20ANNO/CALCOLO%20NUMERICO/2022-23/LAB/LAB4/lab4_es3.ipynb#X14sZmlsZQ%3D%3D?line=7'>8</a>\u001b[0m \u001b[39mprint\u001b[39m(\u001b[39m'\u001b[39m\u001b[39m\\n\u001b[39;00m\u001b[39m'\u001b[39m)\n",
      "\u001b[1;32mc:\\Users\\sharo\\Desktop\\UNI\\SECONDO ANNO\\CALCOLO NUMERICO\\2022-23\\LAB\\LAB4\\lab4_es3.ipynb Cella 11\u001b[0m in \u001b[0;36mnewton\u001b[1;34m(f, df, tolf, tolx, maxit, xTrue, x0)\u001b[0m\n\u001b[0;32m      <a href='vscode-notebook-cell:/c%3A/Users/sharo/Desktop/UNI/SECONDO%20ANNO/CALCOLO%20NUMERICO/2022-23/LAB/LAB4/lab4_es3.ipynb#X14sZmlsZQ%3D%3D?line=5'>6</a>\u001b[0m vecErrore\u001b[39m=\u001b[39mnp\u001b[39m.\u001b[39mzeros( (maxit,\u001b[39m1\u001b[39m), dtype\u001b[39m=\u001b[39m\u001b[39mfloat\u001b[39m)\n\u001b[0;32m      <a href='vscode-notebook-cell:/c%3A/Users/sharo/Desktop/UNI/SECONDO%20ANNO/CALCOLO%20NUMERICO/2022-23/LAB/LAB4/lab4_es3.ipynb#X14sZmlsZQ%3D%3D?line=8'>9</a>\u001b[0m i\u001b[39m=\u001b[39m\u001b[39m0\u001b[39m\n\u001b[1;32m---> <a href='vscode-notebook-cell:/c%3A/Users/sharo/Desktop/UNI/SECONDO%20ANNO/CALCOLO%20NUMERICO/2022-23/LAB/LAB4/lab4_es3.ipynb#X14sZmlsZQ%3D%3D?line=9'>10</a>\u001b[0m err[\u001b[39m0\u001b[39;49m]\u001b[39m=\u001b[39mtolx\u001b[39m+\u001b[39m\u001b[39m1\u001b[39m\n\u001b[0;32m     <a href='vscode-notebook-cell:/c%3A/Users/sharo/Desktop/UNI/SECONDO%20ANNO/CALCOLO%20NUMERICO/2022-23/LAB/LAB4/lab4_es3.ipynb#X14sZmlsZQ%3D%3D?line=10'>11</a>\u001b[0m vecErrore[\u001b[39m0\u001b[39m] \u001b[39m=\u001b[39m np\u001b[39m.\u001b[39mabs(x0\u001b[39m-\u001b[39mxTrue)\n\u001b[0;32m     <a href='vscode-notebook-cell:/c%3A/Users/sharo/Desktop/UNI/SECONDO%20ANNO/CALCOLO%20NUMERICO/2022-23/LAB/LAB4/lab4_es3.ipynb#X14sZmlsZQ%3D%3D?line=11'>12</a>\u001b[0m x\u001b[39m=\u001b[39mx0\n",
      "\u001b[1;31mIndexError\u001b[0m: index 0 is out of bounds for axis 0 with size 0"
     ]
    }
   ],
   "source": [
    "''' Calcolo soluzione tramite Bisezione, Newton e Approssimazioni Successive'''\n",
    "(xBise, iter_bise, err, vecErr_bise)= bisezione(a2, b2, f2, tolf, x2true) \n",
    "print('Metodo di bisezione \\n x =', xBise,'\\n iter_bise=',iter_bise  ,'\\n iter_max=', maxit)\n",
    "print('\\n')\n",
    "\n",
    "(xNew, iter_new, err, vecErr_new)= newton(f2, df2, tolf, tolx, 0, f2true, x0)\n",
    "print('Metodo di Newton \\n x =', xNew,'\\n iter_new=', iter_new, '\\n err_new=', vecErr_new)\n",
    "print('\\n')"
   ]
  },
  {
   "cell_type": "code",
   "execution_count": 24,
   "metadata": {},
   "outputs": [
    {
     "name": "stdout",
     "output_type": "stream",
     "text": [
      "Metodo approssimazioni successive \n",
      " x = 3.52137970680148 \n",
      " iter_new= 15\n"
     ]
    }
   ],
   "source": [
    "(sol_n, iter_n, err_n, vecErr)= succ_app(f2, df2, tolf, tolx, maxit, x2true, x0)\n",
    "print('Metodo approssimazioni successive \\n x =',sol_n,'\\n iter_new=', iter_n)\n"
   ]
  }
 ],
 "metadata": {
  "kernelspec": {
   "display_name": "Python 3.10.5 64-bit",
   "language": "python",
   "name": "python3"
  },
  "language_info": {
   "codemirror_mode": {
    "name": "ipython",
    "version": 3
   },
   "file_extension": ".py",
   "mimetype": "text/x-python",
   "name": "python",
   "nbconvert_exporter": "python",
   "pygments_lexer": "ipython3",
   "version": "3.10.5"
  },
  "orig_nbformat": 4,
  "vscode": {
   "interpreter": {
    "hash": "71f6c63340f562ab350e69d82cce97e48d9e9c6f1b0042b0ad851aac87d861d2"
   }
  }
 },
 "nbformat": 4,
 "nbformat_minor": 2
}
