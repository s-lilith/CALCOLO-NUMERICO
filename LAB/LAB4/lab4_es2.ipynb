{
 "cells": [
  {
   "cell_type": "code",
   "execution_count": 1,
   "metadata": {},
   "outputs": [],
   "source": [
    "import numpy as np\n",
    "import matplotlib.pyplot as plt\n"
   ]
  },
  {
   "cell_type": "code",
   "execution_count": 2,
   "metadata": {},
   "outputs": [],
   "source": [
    "''' Metodo delle approssimazioni successive'''\n",
    "def succ_app(f, g, tolf, tolx, maxit, xTrue, x0=0):\n",
    "  \n",
    "  err=np.zeros(maxit+1, dtype=np.float64)\n",
    "  vecErrore=np.zeros(maxit+1, dtype=np.float64)\n",
    "  \n",
    "  \n",
    "  i= 0\n",
    "  err[0]= tolx + 1\n",
    "  vecErrore[0] = np.abs(x0 - xTrue)\n",
    "  x = x0\n",
    "\n",
    "  while (i < maxit and (err[i] > tolx or abs(f(x)) > tolf) ): \n",
    "    x_new= g(x)\n",
    "    err[i+1]= abs(x_new - x)\n",
    "    i+= 1\n",
    "    x= x_new\n",
    "    \n",
    "  err = err[0 : i] \n",
    "  vecErrore = vecErrore[0 : i]\n",
    "  return (x, i, err, vecErrore) "
   ]
  },
  {
   "cell_type": "code",
   "execution_count": 3,
   "metadata": {},
   "outputs": [
    {
     "name": "stdout",
     "output_type": "stream",
     "text": [
      "fTrue =  4.278746923436216e-08\n"
     ]
    }
   ],
   "source": [
    "'''creazione del problema'''\n",
    "f = lambda x: np.exp(x)-x**2\n",
    "df = lambda x: np.exp(x)-2*x\n",
    "\n",
    "g1 = lambda x: x-f(x)*np.exp(x/2)\n",
    "g2 = lambda x: x-f(x)*np.exp(-x/2)\n",
    "g3 = lambda x: x-f(x)/df(x)\n",
    "\n",
    "xTrue = -0.7034674\n",
    "fTrue = f(xTrue)\n",
    "print('fTrue = ', fTrue)\n",
    "\n",
    "tolx= 10**(-10)\n",
    "tolf = 10**(-6)\n",
    "maxit=100\n",
    "x0= 0"
   ]
  },
  {
   "cell_type": "code",
   "execution_count": 7,
   "metadata": {},
   "outputs": [
    {
     "data": {
      "image/png": "[encoded data removed]",
      "text/plain": [
       "<Figure size 432x288 with 1 Axes>"
      ]
     },
     "metadata": {
      "needs_background": "light"
     },
     "output_type": "display_data"
    },
    {
     "name": "stdout",
     "output_type": "stream",
     "text": [
      "Metodo approssimazioni successive g1 \n",
      " x = -0.7034674225096886 \n",
      " iter_new= 23\n",
      "Metodo approssimazioni successive g2 \n",
      " x = -0.48775858993453886 \n",
      " iter_new= 100\n",
      "Metodo approssimazioni successive g3 \n",
      " x = -0.7034674224983917 \n",
      " iter_new= 6\n"
     ]
    }
   ],
   "source": [
    "''' Grafico funzione in [-1, 1]'''\n",
    "a= -1.0\n",
    "b= 1.0\n",
    "x_plot= np.linspace(a, b, 101)\n",
    "f_plot= f(x_plot)\n",
    "\n",
    "plt.plot(x_plot, f_plot)\n",
    "plt.plot(xTrue, f(xTrue), '*', color='red')\n",
    "plt.legend((\"f(x)\",\"xTrue\"))\n",
    "plt.xlabel(\"x\")\n",
    "plt.ylabel(\"y\")\n",
    "plt.grid()\n",
    "plt.show()\n",
    "\n",
    "\n",
    "\n",
    "'''Calcolo soluzione in g1, g2 e g3'''\n",
    "\n",
    "[sol_n, iter_n, err_n, vecErrore_g1]=succ_app(f, g1, tolf, tolx, maxit, xTrue, x0)\n",
    "print('Metodo approssimazioni successive g1 \\n x =',sol_n,'\\n iter_new=', iter_n)\n",
    "\n",
    "[sol_n, iter_n, err_n, vecErrore_g2]=succ_app(f, g2, tolf, tolx, maxit, xTrue, x0)\n",
    "print('Metodo approssimazioni successive g2 \\n x =',sol_n,'\\n iter_new=', iter_n)\n",
    "\n",
    "[sol_n, iter_n, err_n, vecErrore_g3]=succ_app(f, g3, tolf, tolx, maxit, xTrue, x0)\n",
    "print('Metodo approssimazioni successive g3 \\n x =',sol_n,'\\n iter_new=', iter_n)"
   ]
  },
  {
   "cell_type": "code",
   "execution_count": 5,
   "metadata": {},
   "outputs": [
    {
     "data": {
      "image/png": "[encoded data removed]",
      "text/plain": [
       "<Figure size 432x288 with 1 Axes>"
      ]
     },
     "metadata": {
      "needs_background": "light"
     },
     "output_type": "display_data"
    }
   ],
   "source": [
    "''' Grafico Errore vs Iterazioni'''\n",
    "# g1\n",
    "plt.plot(vecErrore_g1, '.-', color='blue')\n",
    "# g2\n",
    "plt.plot(vecErrore_g2[:20], '.-', color='green')\n",
    "# g3\n",
    "plt.plot(vecErrore_g3, '.-', color='red')\n",
    "\n",
    "plt.legend( (\"g1\", \"g2\", \"g3\"))\n",
    "plt.xlabel('Iterazioni')\n",
    "plt.ylabel('Errore')\n",
    "plt.title('Errore vs Iterazioni')\n",
    "plt.grid()"
   ]
  }
 ],
 "metadata": {
  "kernelspec": {
   "display_name": "Python 3.10.5 64-bit",
   "language": "python",
   "name": "python3"
  },
  "language_info": {
   "codemirror_mode": {
    "name": "ipython",
    "version": 3
   },
   "file_extension": ".py",
   "mimetype": "text/x-python",
   "name": "python",
   "nbconvert_exporter": "python",
   "pygments_lexer": "ipython3",
   "version": "3.10.5"
  },
  "orig_nbformat": 4,
  "vscode": {
   "interpreter": {
    "hash": "71f6c63340f562ab350e69d82cce97e48d9e9c6f1b0042b0ad851aac87d861d2"
   }
  }
 },
 "nbformat": 4,
 "nbformat_minor": 2
}
