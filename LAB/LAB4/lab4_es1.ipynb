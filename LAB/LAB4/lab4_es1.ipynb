{
 "cells": [
  {
   "cell_type": "code",
   "execution_count": 1,
   "metadata": {},
   "outputs": [],
   "source": [
    "import numpy as np\n",
    "import matplotlib.pyplot as plt"
   ]
  },
  {
   "cell_type": "code",
   "execution_count": 2,
   "metadata": {},
   "outputs": [],
   "source": [
    "# ''' Metodo di Bisezione'''\n",
    "# def bisezione(a, b, f, tolx, xTrue):\n",
    "#   k = 100       # numero minimo di iterazioni per avere un errore minore di tolx\n",
    "#   # vecErrore = np.zeros( (k,1) )\n",
    "#   vecErrore = np.zeros( k)\n",
    "#   if f(a)*f(b)>0:\n",
    "#     print('non esiste radice in [a,b]')\n",
    "#     return()\n",
    "    \n",
    "      \n",
    "#   for i in range(1,k):\n",
    "      \n",
    "#       if (b-a < tolx+1.e-16*max(a,b)):\n",
    "#         print('Errore: l\\'intervallo è troppo piccolo ')\n",
    "#         return ('Errore', i, k, vecErrore)\n",
    "\n",
    "#       c = a+(b-a)/2 #più stabile\n",
    "#       vecErrore[i-1] = abs(c - xTrue)\n",
    "#       if abs(f(c)) < 1.e-15:       # se f(c) è molto vicino a 0 \n",
    "#           x=c\n",
    "#           return (x, i, k, vecErrore)\n",
    "#       else:\n",
    "#         if f(a) * f(c) < 0:\n",
    "#          b = c\n",
    "#         else:\n",
    "#           a = c\n",
    "  \n",
    "#   x = c  \n",
    "      \n",
    "#   return (x, i, k, vecErrore)"
   ]
  },
  {
   "cell_type": "code",
   "execution_count": 3,
   "metadata": {},
   "outputs": [],
   "source": [
    "def bisezione(a, b, f, tolx, xTrue):\n",
    "\n",
    "    if f(a)*f(b) >0:\n",
    "        print('Non esiste radice in [a,b]')\n",
    "        return()\n",
    "    \n",
    "    k= 100\n",
    "    vecErr= np.zeros(k)\n",
    "    i=0\n",
    "    while(b-a) > tolx + 1.e-16 * max(a,b):\n",
    "        # if (b-a < tolx+1.e-16*max(a,b)):\n",
    "        #     print('Errore: l\\'intervallo è troppo piccolo ')\n",
    "        #     return ('Errore', i, k, vecErr)\n",
    "        i= i+1\n",
    "        c= a + (b - a) /2\n",
    "        vecErr[i-1] = abs(c - xTrue)\n",
    "        if abs(f(c)) < 1.e-15:\n",
    "            x= c\n",
    "            return(x, i, k, vecErr)\n",
    "        else:\n",
    "            if f(a) * f(c) < 0:\n",
    "                b= c\n",
    "            else:\n",
    "                a= c\n",
    "    x= c\n",
    "    return(x, i, k, vecErr)\n",
    "\n"
   ]
  },
  {
   "cell_type": "code",
   "execution_count": 4,
   "metadata": {},
   "outputs": [],
   "source": [
    "''' Metodo di Newton'''\n",
    "\n",
    "def newton( f, df, tolf, tolx, maxit, xTrue, x0=0):\n",
    "  \n",
    "  err=np.zeros(maxit, dtype=float)\n",
    "  vecErrore=np.zeros( (maxit,1), dtype=float)\n",
    "  \n",
    "  \n",
    "  i=0\n",
    "  err[0]=tolx+1\n",
    "  vecErrore[0] = np.abs(x0-xTrue)\n",
    "  x=x0\n",
    "\n",
    "  while (i<maxit and (err[i]>tolx or abs(f(x))>tolf) ): # scarto assoluto tra iterati\n",
    "    x_new= f(x)\n",
    "    err[i+1]=abs(x_new-x)\n",
    "    vecErrore[i+1]=abs(x_new-xTrue)\n",
    "    i=i+1\n",
    "    x=x_new\n",
    "    \n",
    "  err=err[0:i]      \n",
    "  vecErrore = vecErrore[0:i]\n",
    "  return (x, i, err, vecErrore)  "
   ]
  },
  {
   "cell_type": "code",
   "execution_count": 5,
   "metadata": {},
   "outputs": [
    {
     "name": "stdout",
     "output_type": "stream",
     "text": [
      "4.278746923436216e-08\n"
     ]
    }
   ],
   "source": [
    "'''creazione del problema'''\n",
    "f = lambda x: np.exp(x)-x**2\n",
    "df = lambda x: np.exp(x)-2*x\n",
    "xTrue = -0.7034674\n",
    "fTrue = f(xTrue)\n",
    "print (fTrue)\n",
    "\n",
    "a=-1.0\n",
    "b=1.0\n",
    "tolx= 10**(-10)\n",
    "tolf = 10**(-6)\n",
    "maxit=100\n",
    "x0= 0"
   ]
  },
  {
   "cell_type": "code",
   "execution_count": 6,
   "metadata": {},
   "outputs": [
    {
     "data": {
      "image/png": "[encoded data removed]",
      "text/plain": [
       "<Figure size 432x288 with 1 Axes>"
      ]
     },
     "metadata": {
      "needs_background": "light"
     },
     "output_type": "display_data"
    }
   ],
   "source": [
    "''' Grafico funzione in [a, b]'''\n",
    "x_plot = np.linspace(a, b, 101)\n",
    "f_plot = f(x_plot)\n",
    "\n",
    "plt.plot(x_plot, f_plot)\n",
    "plt.plot(xTrue, f(xTrue), '*', color='red')\n",
    "plt.legend((\"f(x)\",\"xTrue\"))\n",
    "plt.xlabel(\"x\")\n",
    "plt.ylabel(\"y\")\n",
    "plt.title(\"f(x) = e^x-x^2\")\n",
    "plt.grid()"
   ]
  },
  {
   "cell_type": "code",
   "execution_count": 7,
   "metadata": {},
   "outputs": [
    {
     "name": "stdout",
     "output_type": "stream",
     "text": [
      "Metodo di bisezione \n",
      " x = -0.7034673690795898 \n",
      " iter_bise= 21 \n",
      " iter_max= 100\n",
      "\n",
      "\n",
      "Metodo di Newton \n",
      " x = nan \n",
      " iter_new= 7 \n",
      " err_new= [[4.27874692e-08]\n",
      " [9.99999957e-01]\n",
      " [1.71828179e+00]\n",
      " [2.62244904e+00]\n",
      " [6.89216550e+00]\n",
      " [9.37029210e+02]\n",
      " [           inf]]\n",
      "\n",
      "\n"
     ]
    },
    {
     "name": "stderr",
     "output_type": "stream",
     "text": [
      "C:\\Users\\sharo\\AppData\\Local\\Temp\\ipykernel_6444\\2992932332.py:2: RuntimeWarning: overflow encountered in exp\n",
      "  f = lambda x: np.exp(x)-x**2\n",
      "C:\\Users\\sharo\\AppData\\Local\\Temp\\ipykernel_6444\\2992932332.py:2: RuntimeWarning: invalid value encountered in double_scalars\n",
      "  f = lambda x: np.exp(x)-x**2\n"
     ]
    }
   ],
   "source": [
    "''' Calcolo soluzione tramite Bisezione e Newton'''\n",
    "(xBise, iter_bise, err, vecErr_bise) = bisezione(a,b,f,1.e-6,xTrue)\n",
    "print('Metodo di bisezione \\n x =', xBise,'\\n iter_bise=',iter_bise  ,'\\n iter_max=', maxit)\n",
    "print('\\n')\n",
    "\n",
    "\n",
    "(xNew, iter_new, err, vecErr_new) = newton(f, df, 1.e-16, 1.e-6, maxit, fTrue,x0)\n",
    "print('Metodo di Newton \\n x =', xNew,'\\n iter_new=', iter_new, '\\n err_new=', vecErr_new)\n",
    "print('\\n')"
   ]
  },
  {
   "cell_type": "code",
   "execution_count": 8,
   "metadata": {},
   "outputs": [
    {
     "data": {
      "image/png": "[encoded data removed]",
      "text/plain": [
       "<Figure size 432x288 with 1 Axes>"
      ]
     },
     "metadata": {
      "needs_background": "light"
     },
     "output_type": "display_data"
    }
   ],
   "source": [
    "''' Grafico Errore vs Iterazioni'''\n",
    "plt.plot(vecErr_bise, color='green', label='Bisezione')\n",
    "plt.plot(vecErr_new, color='red', label='Newton')\n",
    "plt.legend()\n",
    "plt.xlabel('Iterazioni')\n",
    "plt.ylabel('Errore')\n",
    "plt.title('Errore vs Iterazioni')\n",
    "plt.grid()\n",
    "plt.show()"
   ]
  }
 ],
 "metadata": {
  "kernelspec": {
   "display_name": "Python 3.10.5 64-bit",
   "language": "python",
   "name": "python3"
  },
  "language_info": {
   "codemirror_mode": {
    "name": "ipython",
    "version": 3
   },
   "file_extension": ".py",
   "mimetype": "text/x-python",
   "name": "python",
   "nbconvert_exporter": "python",
   "pygments_lexer": "ipython3",
   "version": "3.10.5"
  },
  "orig_nbformat": 4,
  "vscode": {
   "interpreter": {
    "hash": "71f6c63340f562ab350e69d82cce97e48d9e9c6f1b0042b0ad851aac87d861d2"
   }
  }
 },
 "nbformat": 4,
 "nbformat_minor": 2
}
