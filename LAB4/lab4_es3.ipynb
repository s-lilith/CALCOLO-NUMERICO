{
 "cells": [
  {
   "cell_type": "code",
   "execution_count": 3,
   "metadata": {},
   "outputs": [],
   "source": [
    "import numpy as np\n",
    "import matplotlib.pyplot as plt"
   ]
  },
  {
   "cell_type": "code",
   "execution_count": 4,
   "metadata": {},
   "outputs": [],
   "source": [
    "# def bisezione(a, b, f, tolx, xTrue):\n",
    "\n",
    "#     if f(a)*f(b) >0:\n",
    "#         print('Non esiste radice in [a,b]')\n",
    "#         return()\n",
    "    \n",
    "#     k= 100\n",
    "#     vecErr= np.zeros(k)\n",
    "#     i=0\n",
    "#     while(b-a) > tolx + 1.e-16 * max(a,b):\n",
    "#         # if (b-a < tolx+1.e-16*max(a,b)):\n",
    "#         #     print('Errore: l\\'intervallo è troppo piccolo ')\n",
    "#         #     return ('Errore', i, k, vecErr)\n",
    "#         i= i+1\n",
    "#         c= a + (b - a) /2\n",
    "#         vecErr[i-1] = abs(c - xTrue)\n",
    "#         if abs(f(c)) < 1.e-15:\n",
    "#             x= c\n",
    "#             return(x, i, k, vecErr)\n",
    "#         else:\n",
    "#             if f(a) * f(c) < 0:\n",
    "#                 b= c\n",
    "#             else:\n",
    "#                 a= c\n",
    "#     x= c\n",
    "#     return(x, i, k, vecErr)\n",
    "\n"
   ]
  },
  {
   "cell_type": "code",
   "execution_count": 5,
   "metadata": {},
   "outputs": [],
   "source": [
    "def bisezione(a, b, f, tolx, xTrue):\n",
    "  k = 100       # numero minimo di iterazioni per avere un errore minore di tolx\n",
    "  vecErrore = np.zeros( (k,1) )\n",
    "  \n",
    "  if f(a)*f(b)>0:\n",
    "    print('non esiste radice in [a,b]')\n",
    "    return()\n",
    "    \n",
    "      \n",
    "  for i in range(1,k):\n",
    "\n",
    "    c = a+(b-a)/2 #più stabile\n",
    "    vecErrore[i] = abs(c - xTrue)\n",
    "\n",
    "    if abs(f(c)) < 1.e-16:       # se f(c) è molto vicino a 0 \n",
    "        print('converge')\n",
    "    else:\n",
    "        if f(c) > 0:\n",
    "            b = c\n",
    "        else:\n",
    "            a = c\n",
    "  x = c  \n",
    "      \n",
    "  return (x, i, k, vecErrore)"
   ]
  },
  {
   "cell_type": "code",
   "execution_count": 6,
   "metadata": {},
   "outputs": [],
   "source": [
    "''' Metodo di Newton'''\n",
    "\n",
    "def newton( f, df, tolf, tolx, maxit, xTrue, x0=0):\n",
    "  \n",
    "  err=np.zeros(maxit, dtype=float)\n",
    "  vecErrore=np.zeros( (maxit,1), dtype=float)\n",
    "  \n",
    "  \n",
    "  i=0\n",
    "  err[0]=tolx+1\n",
    "  vecErrore[0] = np.abs(x0-xTrue)\n",
    "  x=x0\n",
    "\n",
    "  while (i<maxit and  abs(f(x))>tolf ): # scarto assoluto tra iterati (err[i]>tolx or\n",
    "    x_new= f(x)\n",
    "    err[i]=abs(x_new-x)\n",
    "    vecErrore[i]=abs(x-xTrue)\n",
    "    i=i+1\n",
    "    x=x_new\n",
    "    \n",
    "  err=err[0:i]      \n",
    "  vecErrore = vecErrore[0:i]\n",
    "  return (x, i, err, vecErrore)  "
   ]
  },
  {
   "cell_type": "code",
   "execution_count": 7,
   "metadata": {},
   "outputs": [],
   "source": [
    "''' Metodo delle approssimazioni successive'''\n",
    "def succ_app(f, g, tolf, tolx, maxit, xTrue, x0=0):\n",
    "  \n",
    "  err=np.zeros(maxit+1, dtype=np.float64)\n",
    "  vecErrore=np.zeros(maxit+1, dtype=np.float64)\n",
    "  \n",
    "  \n",
    "  i= 0\n",
    "  err[0]= tolx + 1\n",
    "  vecErrore[0] = np.abs(x0 - xTrue)\n",
    "  x = x0\n",
    "\n",
    "  while (i < maxit and (err[i] > tolx or abs(f(x)) > tolf) ): \n",
    "    x_new= g(x)\n",
    "    err[i]= abs(x_new - x)\n",
    "    vecErrore[i] = abs(x - xTrue)\n",
    "    i+= 1\n",
    "    x= x_new\n",
    "    \n",
    "  err = err[0 : i] \n",
    "  vecErrore = vecErrore[0 : i]\n",
    "  return (x, i, err, vecErrore) "
   ]
  },
  {
   "cell_type": "code",
   "execution_count": 8,
   "metadata": {},
   "outputs": [
    {
     "name": "stdout",
     "output_type": "stream",
     "text": [
      "1.436646284158627e-06\n"
     ]
    }
   ],
   "source": [
    "'''creazione del problema 1'''\n",
    "f1= lambda x: x**3+4*x*np.cos(x)-2\n",
    "df1= lambda x: (2-x**3)/(4*np.cos(x))\n",
    "x1true= 0.536839\n",
    "f1true= f1(x1true)\n",
    "print(f1true)\n",
    "\n",
    "a1= 0.0\n",
    "b1= 2.0\n",
    "tolx= 10**(-10)\n",
    "tolf = 10**(-6)\n",
    "maxit=100\n",
    "x0= 1"
   ]
  },
  {
   "cell_type": "code",
   "execution_count": 9,
   "metadata": {},
   "outputs": [
    {
     "data": {
      "image/png": "[encoded data removed]",
      "text/plain": [
       "<Figure size 432x288 with 1 Axes>"
      ]
     },
     "metadata": {
      "needs_background": "light"
     },
     "output_type": "display_data"
    }
   ],
   "source": [
    "x_plot= np.linspace(a1,b1, 101)\n",
    "f_plot= f1(x_plot)\n",
    "plt.plot(x_plot, f_plot)\n",
    "plt.plot(x1true, f1(x1true), '*', color='red')\n",
    "plt.legend((\"f(x)\",\"xTrue\"))\n",
    "plt.xlabel(\"x\")\n",
    "plt.ylabel(\"y\")\n",
    "plt.title('funzione f1= x^3 + 4*x*cos(x) -2')\n",
    "plt.grid()"
   ]
  },
  {
   "cell_type": "code",
   "execution_count": 10,
   "metadata": {},
   "outputs": [
    {
     "name": "stdout",
     "output_type": "stream",
     "text": [
      "converge\n",
      "converge\n",
      "converge\n",
      "converge\n",
      "converge\n",
      "converge\n",
      "converge\n",
      "converge\n",
      "converge\n",
      "converge\n",
      "converge\n",
      "converge\n",
      "converge\n",
      "converge\n",
      "converge\n",
      "converge\n",
      "converge\n",
      "converge\n",
      "converge\n",
      "converge\n",
      "converge\n",
      "converge\n",
      "converge\n",
      "converge\n",
      "converge\n",
      "converge\n",
      "converge\n",
      "converge\n",
      "converge\n",
      "converge\n",
      "converge\n",
      "converge\n",
      "converge\n",
      "converge\n",
      "converge\n",
      "converge\n",
      "converge\n",
      "converge\n",
      "converge\n",
      "converge\n",
      "converge\n",
      "converge\n",
      "converge\n",
      "converge\n",
      "converge\n",
      "converge\n",
      "converge\n",
      "Metodo di bisezione \n",
      " x = 0.5368385515667755 \n",
      " iter_bise= 99 \n",
      " iter_max= 100\n",
      "\n",
      "\n",
      "Metodo di Newton \n",
      " x = inf \n",
      " iter_new= 12 \n",
      " err_new= [[9.99998563e-001]\n",
      " [1.16120779e+000]\n",
      " [1.41549731e+000]\n",
      " [1.71190781e+000]\n",
      " [2.05389045e+000]\n",
      " [2.84796609e+000]\n",
      " [1.01953235e+001]\n",
      " [1.02848767e+003]\n",
      " [1.08791925e+009]\n",
      " [1.28762672e+027]\n",
      " [2.13486266e+081]\n",
      " [9.72993244e+243]]\n",
      "\n",
      "\n"
     ]
    },
    {
     "name": "stderr",
     "output_type": "stream",
     "text": [
      "C:\\Users\\sharo\\AppData\\Local\\Temp\\ipykernel_37916\\2808962444.py:2: RuntimeWarning: overflow encountered in double_scalars\n",
      "  f1= lambda x: x**3+4*x*np.cos(x)-2\n",
      "C:\\Users\\sharo\\AppData\\Local\\Temp\\ipykernel_37916\\2808962444.py:2: RuntimeWarning: invalid value encountered in cos\n",
      "  f1= lambda x: x**3+4*x*np.cos(x)-2\n"
     ]
    }
   ],
   "source": [
    "''' Calcolo soluzione tramite Bisezione, Newton e Approssimazioni Successive'''\n",
    "(xBise, iter_bise, err_bise, vecErr_bise)= bisezione(a1, b1, f1, 1.e-6, x1true) \n",
    "print('Metodo di bisezione \\n x =', xBise,'\\n iter_bise=',iter_bise  ,'\\n iter_max=', maxit)\n",
    "print('\\n')\n",
    "\n",
    "(xNew, iter_new, err_new, vecErr_new)= newton(f1, df1, tolf, tolx, maxit, f1true, x0)\n",
    "print('Metodo di Newton \\n x =', xNew,'\\n iter_new=', iter_new, '\\n err_new=', vecErr_new)\n",
    "print('\\n')\n",
    "\n",
    "\n"
   ]
  },
  {
   "cell_type": "code",
   "execution_count": 11,
   "metadata": {},
   "outputs": [
    {
     "name": "stdout",
     "output_type": "stream",
     "text": [
      "Metodo approssimazioni successive \n",
      " x = 0.5368384268850389 \n",
      " iter_new= 6\n"
     ]
    }
   ],
   "source": [
    "(sol_n, iter_n, err_n, vecErr)= succ_app(f1, df1, tolf, tolx, maxit, x1true, x0)\n",
    "print('Metodo approssimazioni successive \\n x =',sol_n,'\\n iter_new=', iter_n)\n"
   ]
  },
  {
   "cell_type": "code",
   "execution_count": 21,
   "metadata": {},
   "outputs": [
    {
     "data": {
      "image/png": "[encoded data removed]",
      "text/plain": [
       "<Figure size 1440x720 with 1 Axes>"
      ]
     },
     "metadata": {
      "needs_background": "light"
     },
     "output_type": "display_data"
    }
   ],
   "source": [
    "# Bisezione\n",
    "iter_bis = np.arange(0, iter_bise+1)\n",
    "plt.figure(figsize=(20,10))\n",
    "plt.plot(iter_bis, vecErr_bise, 'b', label='bisezione')\n",
    "plt.grid()\n",
    "plt.xlabel('iter_bise')\n",
    "plt.ylabel('err_bise')\n",
    "plt.title('Bisezione1')\n",
    "\n",
    "# Newton\n",
    "iter_newton = np.arange(0, iter_new)\n",
    "plt.plot(iter_newton, vecErr_new, 'g', label='newton')\n",
    "plt.grid()\n",
    "plt.xlabel('iter_newton')\n",
    "plt.ylabel('err_newon')\n",
    "plt.title('Newton1')\n",
    "\n",
    "# approssimazioni successive\n",
    "iter_succ = np.arange(0, iter_n)\n",
    "plt.plot(iter_succ, vecErr, 'r', label='app. succ')\n",
    "plt.grid()\n",
    "plt.xlabel('iter_succ')\n",
    "plt.ylabel('err_succ')\n",
    "plt.legend()\n",
    "plt.title('approssimazioni successive 1 g = ( 2 - x^3 ) / ( 4*math.cos(x) )')\n",
    "plt.show()"
   ]
  },
  {
   "cell_type": "code",
   "execution_count": 13,
   "metadata": {},
   "outputs": [
    {
     "name": "stdout",
     "output_type": "stream",
     "text": [
      "1.7370704914476676e-05\n"
     ]
    }
   ],
   "source": [
    "'''creazione del problema 2'''\n",
    "f2= lambda x: x-x**(1/3)-2\n",
    "df2= lambda x: x**(1/3) +2\n",
    "x2true= 3.5214\n",
    "f2true= f2(x2true)\n",
    "print(f2true)\n",
    "\n",
    "a2= 3.0\n",
    "b2= 5.0\n",
    "tolx= 10**(-10)\n",
    "tolf = 10**(-6)\n",
    "maxit=100\n",
    "x0= 1"
   ]
  },
  {
   "cell_type": "code",
   "execution_count": 14,
   "metadata": {},
   "outputs": [
    {
     "data": {
      "image/png": "[encoded data removed]",
      "text/plain": [
       "<Figure size 432x288 with 1 Axes>"
      ]
     },
     "metadata": {
      "needs_background": "light"
     },
     "output_type": "display_data"
    }
   ],
   "source": [
    "x_plot= np.linspace(a2,b2, 101)\n",
    "f_plot= f1(x_plot)\n",
    "plt.plot(x_plot, f_plot)\n",
    "plt.plot(x2true, f1(x2true), '*', color='red')\n",
    "plt.legend((\"f(x)\",\"xTrue\"))\n",
    "plt.xlabel(\"x\")\n",
    "plt.ylabel(\"y\")\n",
    "plt.grid()"
   ]
  },
  {
   "cell_type": "code",
   "execution_count": 15,
   "metadata": {},
   "outputs": [
    {
     "name": "stdout",
     "output_type": "stream",
     "text": [
      "converge\n",
      "converge\n",
      "converge\n",
      "converge\n",
      "converge\n",
      "converge\n",
      "converge\n",
      "converge\n",
      "converge\n",
      "converge\n",
      "converge\n",
      "converge\n",
      "converge\n",
      "converge\n",
      "converge\n",
      "converge\n",
      "converge\n",
      "converge\n",
      "converge\n",
      "converge\n",
      "converge\n",
      "converge\n",
      "converge\n",
      "converge\n",
      "converge\n",
      "converge\n",
      "converge\n",
      "converge\n",
      "converge\n",
      "converge\n",
      "converge\n",
      "converge\n",
      "converge\n",
      "converge\n",
      "converge\n",
      "converge\n",
      "converge\n",
      "converge\n",
      "converge\n",
      "converge\n",
      "converge\n",
      "converge\n",
      "converge\n",
      "converge\n",
      "converge\n",
      "converge\n",
      "converge\n",
      "converge\n",
      "Metodo di bisezione \n",
      " x = 3.521379706804568 \n",
      " iter_bise= 99 \n",
      " iter_max= 100\n",
      "\n",
      "\n",
      "Metodo di Newton \n",
      " x = (-479.19479737328135-4.336139893729297j) \n",
      " iter_new= 100 \n",
      " err_new= [[  0.99998263]\n",
      " [  2.00001737]\n",
      " [  4.7568105 ]\n",
      " [  7.58640785]\n",
      " [ 10.6763565 ]\n",
      " [ 13.77603697]\n",
      " [ 17.06504598]\n",
      " [ 20.35497199]\n",
      " [ 23.79962445]\n",
      " [ 27.24251157]\n",
      " [ 30.818781  ]\n",
      " [ 34.3922393 ]\n",
      " [ 38.08429595]\n",
      " [ 41.77309553]\n",
      " [ 45.56950885]\n",
      " [ 49.36247973]\n",
      " [ 53.25450674]\n",
      " [ 57.14303125]\n",
      " [ 61.12371291]\n",
      " [ 65.10089601]\n",
      " [ 69.16452834]\n",
      " [ 73.22469975]\n",
      " [ 77.36650089]\n",
      " [ 81.50489646]\n",
      " [ 85.72078517]\n",
      " [ 89.93333256]\n",
      " [ 94.21977444]\n",
      " [ 98.50294316]\n",
      " [102.8568401 ]\n",
      " [107.20753303]\n",
      " [111.6261415 ]\n",
      " [116.04161443]\n",
      " [120.52248353]\n",
      " [125.00028393]\n",
      " [129.5412076 ]\n",
      " [134.07912723]\n",
      " [138.67810659]\n",
      " [143.27414412]\n",
      " [147.92935745]\n",
      " [152.58168859]\n",
      " [157.29146699]\n",
      " [161.99842027]\n",
      " [166.76122774]\n",
      " [171.52126465]\n",
      " [176.33568162]\n",
      " [181.14738015]\n",
      " [186.01208969]\n",
      " [190.87413059]\n",
      " [195.78790681]\n",
      " [200.69906196]\n",
      " [205.66076013]\n",
      " [210.61988271]\n",
      " [215.62843081]\n",
      " [220.63444683]\n",
      " [225.68883831]\n",
      " [230.74073935]\n",
      " [235.84002681]\n",
      " [240.93686371]\n",
      " [246.08015341]\n",
      " [251.22103077]\n",
      " [256.40747784]\n",
      " [261.59154924]\n",
      " [266.82035343]\n",
      " [272.04681717]\n",
      " [277.31721914]\n",
      " [282.58531448]\n",
      " [287.89659246]\n",
      " [293.20559635]\n",
      " [298.5570632 ]\n",
      " [303.90628726]\n",
      " [309.29728783]\n",
      " [314.68607576]\n",
      " [320.11598451]\n",
      " [325.54370967]\n",
      " [331.01192854]\n",
      " [336.47799185]\n",
      " [341.98394833]\n",
      " [347.48777632]\n",
      " [353.03092174]\n",
      " [358.57196479]\n",
      " [364.15177268]\n",
      " [369.72950347]\n",
      " [375.34546819]\n",
      " [380.95938022]\n",
      " [386.61101557]\n",
      " [392.26062188]\n",
      " [397.94745997]\n",
      " [403.6322919 ]\n",
      " [409.353882  ]\n",
      " [415.07348812]\n",
      " [420.82939566]\n",
      " [426.58334073]\n",
      " [432.3731464 ]\n",
      " [438.16101045]\n",
      " [443.9843093 ]\n",
      " [449.80568678]\n",
      " [455.66208745]\n",
      " [461.51658642]\n",
      " [467.4057104 ]\n",
      " [473.2929518 ]]\n",
      "\n",
      "\n"
     ]
    }
   ],
   "source": [
    "''' Calcolo soluzione tramite Bisezione, Newton e Approssimazioni Successive'''\n",
    "(xBise, iter_bise, err, vecErr_bise)= bisezione(a2, b2, f2, tolf, x2true) \n",
    "print('Metodo di bisezione \\n x =', xBise,'\\n iter_bise=',iter_bise  ,'\\n iter_max=', maxit)\n",
    "print('\\n')\n",
    "\n",
    "(xNew, iter_new, err, vecErr_new)= newton(f2, df2, tolf, tolx, maxit, f2true, x0)\n",
    "print('Metodo di Newton \\n x =', xNew,'\\n iter_new=', iter_new, '\\n err_new=', vecErr_new)\n",
    "print('\\n')"
   ]
  },
  {
   "cell_type": "code",
   "execution_count": 16,
   "metadata": {},
   "outputs": [
    {
     "name": "stdout",
     "output_type": "stream",
     "text": [
      "Metodo approssimazioni successive \n",
      " x = 3.5213789946128164 \n",
      " iter_new= 8\n"
     ]
    }
   ],
   "source": [
    "(sol_n, iter_n, err_n, vecErr)= succ_app(f2, df2, tolf, tolx, maxit, x2true, x0)\n",
    "print('Metodo approssimazioni successive \\n x =',sol_n,'\\n iter_new=', iter_n)\n"
   ]
  },
  {
   "cell_type": "code",
   "execution_count": 25,
   "metadata": {},
   "outputs": [
    {
     "data": {
      "image/png": "[encoded data removed]",
      "text/plain": [
       "<Figure size 1440x720 with 1 Axes>"
      ]
     },
     "metadata": {
      "needs_background": "light"
     },
     "output_type": "display_data"
    }
   ],
   "source": [
    "# Bisezione\n",
    "iter_bis = np.arange(0, iter_bise+1)\n",
    "plt.figure(figsize=(20,10))\n",
    "plt.plot(iter_bis, vecErr_bise, 'b', label='bisezione')\n",
    "plt.grid()\n",
    "plt.xlabel('iter_bise')\n",
    "plt.ylabel('err_bise')\n",
    "plt.title('Bisezione1')\n",
    "\n",
    "# Newton\n",
    "iter_newton = np.arange(0, iter_new)\n",
    "plt.plot(iter_newton, vecErr_new, 'g', label='newton')\n",
    "plt.grid()\n",
    "plt.xlabel('iter_newton')\n",
    "plt.ylabel('err_newon')\n",
    "plt.title('Newton1')\n",
    "\n",
    "# approssimazioni successive\n",
    "iter_succ = np.arange(0, iter_n)\n",
    "plt.plot(iter_succ, vecErr, 'r', label='app. succ')\n",
    "plt.grid()\n",
    "plt.xlabel('iter_succ')\n",
    "plt.ylabel('err_succ')\n",
    "plt.legend()\n",
    "plt.title('approssimazioni successive 1 g = ( 2 - x^3 ) / ( 4*math.cos(x) )')\n",
    "plt.show()"
   ]
  }
 ],
 "metadata": {
  "kernelspec": {
   "display_name": "Python 3",
   "language": "python",
   "name": "python3"
  },
  "language_info": {
   "codemirror_mode": {
    "name": "ipython",
    "version": 3
   },
   "file_extension": ".py",
   "mimetype": "text/x-python",
   "name": "python",
   "nbconvert_exporter": "python",
   "pygments_lexer": "ipython3",
   "version": "3.10.5 (tags/v3.10.5:f377153, Jun  6 2022, 16:14:13) [MSC v.1929 64 bit (AMD64)]"
  },
  "orig_nbformat": 4,
  "vscode": {
   "interpreter": {
    "hash": "71f6c63340f562ab350e69d82cce97e48d9e9c6f1b0042b0ad851aac87d861d2"
   }
  }
 },
 "nbformat": 4,
 "nbformat_minor": 2
}
