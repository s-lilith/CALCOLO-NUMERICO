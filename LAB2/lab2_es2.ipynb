{
 "cells": [
  {
   "cell_type": "code",
   "execution_count": 1,
   "metadata": {},
   "outputs": [],
   "source": [
    "import numpy as np\n",
    "import scipy.linalg\n",
    "import matplotlib.pyplot as plt"
   ]
  },
  {
   "cell_type": "code",
   "execution_count": 2,
   "metadata": {},
   "outputs": [],
   "source": [
    "def Jacobi(A,b,x0,maxit,tol, xTrue):\n",
    "  n=np.size(x0)     \n",
    "  ite=0\n",
    "  x = np.copy(x0)\n",
    "  norma_it=1+tol\n",
    "  relErr=np.zeros((maxit, 1))\n",
    "  errIter=np.zeros((maxit, 1))\n",
    "  relErr[0]=np.linalg.norm(xTrue-x0)/np.linalg.norm(xTrue)\n",
    "  while (ite<maxit and norma_it>tol):\n",
    "    x_old=np.copy(x)\n",
    "    for i in range(0,n):\n",
    "      x[i]=(b[i]-np.dot(A[i,0:i],x_old[0:i])-np.dot(A[i,i+1:n],x_old[i+1:n]))/A[i,i] #ricorsione x(k+1)=b(i)-a(ij)*x(j)/a(ii)\n",
    "    ite=ite+1\n",
    "    norma_it = np.linalg.norm(x_old-x)/np.linalg.norm(x_old)\n",
    "    relErr[ite] = np.linalg.norm(xTrue-x)/np.linalg.norm(xTrue)\n",
    "    errIter[ite-1] = norma_it\n",
    "  relErr=relErr[:ite]\n",
    "  errIter=errIter[:ite]  \n",
    "  return [x, ite, relErr, errIter]\n",
    "\n",
    "\n",
    "\n",
    "\n",
    "def GaussSeidel(A,b,x0,maxit,tol, xTrue):\n",
    "  n=np.size(x0)     \n",
    "  ite=0\n",
    "  x = np.copy(x0)\n",
    "  relErr=np.zeros((maxit, 1))\n",
    "  errIter=np.zeros((maxit, 1))\n",
    "  errIter[0]=tol+1\n",
    "  relErr[0]=np.linalg.norm(xTrue-x0)/np.linalg.norm(xTrue)\n",
    "  while ( ite < maxit and errIter[ite] > tol ):   \n",
    "    x_old=np.copy(x)\n",
    "    for i in range(0,n):\n",
    "      x[i]=(b[i]-np.dot(A[i,0:i],x[0:i])-np.dot(A[i,i+1:n],x_old[i+1:n]))/A[i,i] \n",
    "    ite=ite+1\n",
    "    relErr[ite] = np.linalg.norm(xTrue-x)/np.linalg.norm(xTrue)\n",
    "    errIter[ite] = np.linalg.norm(x-x_old)/np.linalg.norm(x)  #fine ciclo\n",
    "  relErr=relErr[:ite]\n",
    "  errIter=errIter[:ite] \n",
    "  return [x, ite, relErr, errIter]"
   ]
  },
  {
   "cell_type": "code",
   "execution_count": 10,
   "metadata": {},
   "outputs": [
    {
     "name": "stdout",
     "output_type": "stream",
     "text": [
      "\n",
      " A:\n",
      " [[ 9. -4.  0.  0.  0.  0.  0.  0.  0.  0.]\n",
      " [-4.  9. -4.  0.  0.  0.  0.  0.  0.  0.]\n",
      " [ 0. -4.  9. -4.  0.  0.  0.  0.  0.  0.]\n",
      " [ 0.  0. -4.  9. -4.  0.  0.  0.  0.  0.]\n",
      " [ 0.  0.  0. -4.  9. -4.  0.  0.  0.  0.]\n",
      " [ 0.  0.  0.  0. -4.  9. -4.  0.  0.  0.]\n",
      " [ 0.  0.  0.  0.  0. -4.  9. -4.  0.  0.]\n",
      " [ 0.  0.  0.  0.  0.  0. -4.  9. -4.  0.]\n",
      " [ 0.  0.  0.  0.  0.  0.  0. -4.  9. -4.]\n",
      " [ 0.  0.  0.  0.  0.  0.  0.  0. -4.  9.]]\n",
      "\n",
      " xTrue:\n",
      " [[1.]\n",
      " [1.]\n",
      " [1.]\n",
      " [1.]\n",
      " [1.]\n",
      " [1.]\n",
      " [1.]\n",
      " [1.]\n",
      " [1.]\n",
      " [1.]]\n",
      "\n",
      " b:\n",
      " [[5.]\n",
      " [1.]\n",
      " [1.]\n",
      " [1.]\n",
      " [1.]\n",
      " [1.]\n",
      " [1.]\n",
      " [1.]\n",
      " [1.]\n",
      " [5.]]\n",
      "\n",
      "Soluzione calcolata da Jacobi:\n",
      "1.00\n",
      "1.00\n",
      "1.00\n",
      "1.00\n",
      "1.00\n",
      "1.00\n",
      "1.00\n",
      "1.00\n",
      "1.00\n",
      "1.00\n",
      "iterazioni:  76\n",
      "\n",
      "Soluzione calcolata da Gauss Seidel:\n",
      "1.00\n",
      "1.00\n",
      "1.00\n",
      "1.00\n",
      "1.00\n",
      "1.00\n",
      "1.00\n",
      "1.00\n",
      "1.00\n",
      "1.00\n",
      "iterazioni:  42\n"
     ]
    },
    {
     "name": "stderr",
     "output_type": "stream",
     "text": [
      "C:\\Users\\sharo\\AppData\\Local\\Temp\\ipykernel_25540\\271688564.py:14: RuntimeWarning: divide by zero encountered in double_scalars\n",
      "  norma_it = np.linalg.norm(x_old-x)/np.linalg.norm(x_old)\n"
     ]
    }
   ],
   "source": [
    "n = 10\n",
    "A = 9*np.eye(n) + np.diag(-4*np.ones(n-1),  1) + np.diag(-4*np.ones(n-1),  -1)\n",
    "\n",
    "xTrue = np.ones( (n,1) )\n",
    "b = np.matmul (A, xTrue) \n",
    "\n",
    "print('\\n A:\\n',A)\n",
    "print('\\n xTrue:\\n',xTrue)\n",
    "print('\\n b:\\n',b)\n",
    "\n",
    "x0 = np.zeros( (n,1) )\n",
    "maxit = 100\n",
    "tol = 1.e-6\n",
    "(xJacobi, kJacobi, relErrJacobi, errIterJacobi) = Jacobi(A,b,x0,maxit,tol,xTrue) \n",
    "(xGS, kGS, relErrGS, errIterGS) = GaussSeidel(A,b,x0,maxit,tol,xTrue) \n",
    "\n",
    "print('\\nSoluzione calcolata da Jacobi:' )\n",
    "for i in range(n):\n",
    "    print('%0.2f' %xJacobi[i])\n",
    "print('iterazioni: ',kJacobi)\n",
    "\n",
    "\n",
    "print('\\nSoluzione calcolata da Gauss Seidel:' )\n",
    "for i in range(n):\n",
    "    print('%0.2f' %xGS[i])\n",
    "print('iterazioni: ',kGS)\n"
   ]
  },
  {
   "cell_type": "code",
   "execution_count": 5,
   "metadata": {},
   "outputs": [
    {
     "data": {
      "image/png": "[encoded data removed]",
      "text/plain": [
       "<Figure size 432x288 with 1 Axes>"
      ]
     },
     "metadata": {
      "needs_background": "light"
     },
     "output_type": "display_data"
    }
   ],
   "source": [
    "import matplotlib.pyplot as plt\n",
    "\n",
    "fig, ax = plt.subplots()\n",
    "\n",
    "rangeJabobi = range (0, kJacobi)\n",
    "rangeGS = range(0, kGS)\n",
    "\n",
    "ax.plot(rangeJabobi, relErrJacobi, label='Jacobi', color='blue', linewidth=1, marker='o'  )\n",
    "ax.plot(rangeGS, relErrGS, label='Gauss Seidel', color = 'red', linewidth=2, marker='.' )\n",
    "legend = ax.legend(loc='upper right')\n",
    "plt.xlabel('iterations')\n",
    "plt.ylabel('Relative Error')\n",
    "plt.title('Comparison of the different algorithms')\n",
    "plt.show()"
   ]
  }
 ],
 "metadata": {
  "kernelspec": {
   "display_name": "Python 3.10.5 64-bit",
   "language": "python",
   "name": "python3"
  },
  "language_info": {
   "codemirror_mode": {
    "name": "ipython",
    "version": 3
   },
   "file_extension": ".py",
   "mimetype": "text/x-python",
   "name": "python",
   "nbconvert_exporter": "python",
   "pygments_lexer": "ipython3",
   "version": "3.10.5"
  },
  "orig_nbformat": 4,
  "vscode": {
   "interpreter": {
    "hash": "71f6c63340f562ab350e69d82cce97e48d9e9c6f1b0042b0ad851aac87d861d2"
   }
  }
 },
 "nbformat": 4,
 "nbformat_minor": 2
}
